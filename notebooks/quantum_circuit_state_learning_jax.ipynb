{
 "cells": [
  {
   "cell_type": "markdown",
   "id": "5e5c01fa",
   "metadata": {},
   "source": [
    "# Quantum Circuit State Learning with JAX\n",
    "\n",
    "In this notebook, we train a simple 2-qubit parameterized quantum circuit to match a target quantum state using PennyLane and JAX.\n",
    "\n",
    "Basically, we are teaching the circuit to learn to produce a given quantum state.\n",
    "\n",
    "We use optax for optimization."
   ]
  },
  {
   "cell_type": "code",
   "execution_count": 1,
   "id": "3242f124",
   "metadata": {},
   "outputs": [],
   "source": [
    "import pennylane as qml\n",
    "import jax\n",
    "import jax.numpy as jnp\n",
    "import optax\n",
    "import matplotlib.pyplot as plt"
   ]
  },
  {
   "cell_type": "markdown",
   "id": "f5d2ac88",
   "metadata": {},
   "source": [
    "We’ll use PennyLane’s default.qubit device with 2 qubits."
   ]
  },
  {
   "cell_type": "code",
   "execution_count": 2,
   "id": "a97a6e59",
   "metadata": {},
   "outputs": [],
   "source": [
    "# Device\n",
    "dev = qml.device(\"default.qubit\", wires=2)"
   ]
  },
  {
   "cell_type": "markdown",
   "id": "9dde2e60",
   "metadata": {},
   "source": [
    "## Choose a Target State\n",
    "\n",
    "We’ll use the Bell state:\n",
    "\n",
    "$\n",
    "\\left| \\Phi^+ \\right\\rangle = \\frac{1}{\\sqrt{2}} \\left( \\left| 00 \\right\\rangle + \\left| 11 \\right\\rangle \\right)\n",
    "$"
   ]
  },
  {
   "cell_type": "code",
   "execution_count": 3,
   "id": "f7c12590",
   "metadata": {},
   "outputs": [
    {
     "name": "stderr",
     "output_type": "stream",
     "text": [
      "An NVIDIA GPU may be present on this machine, but a CUDA-enabled jaxlib is not installed. Falling back to cpu.\n"
     ]
    }
   ],
   "source": [
    "target_state = (1/jnp.sqrt(2)) * jnp.array([1.0, 0.0, 0.0, 1.0])"
   ]
  },
  {
   "cell_type": "markdown",
   "id": "33ea1c44",
   "metadata": {},
   "source": [
    "## Define Parameterized Ansatz\n",
    "\n",
    "We use two layers of single-qubit rotations and a CNOT entangling gate:"
   ]
  },
  {
   "cell_type": "code",
   "execution_count": 4,
   "id": "6eb3aebf",
   "metadata": {},
   "outputs": [],
   "source": [
    "@qml.qnode(dev, interface=\"jax\")  # This makes the parameters on the chosen device (jax).\n",
    "def circuit(params):  # params is a (2,3) array: each qubit has 3 rotation angles.\n",
    "    for i in range(2):\n",
    "        qml.Rot(*params[i], wires=i)\n",
    "    qml.CNOT(wires=[0,1])\n",
    "    return qml.state()"
   ]
  },
  {
   "cell_type": "markdown",
   "id": "03b5bfc5",
   "metadata": {},
   "source": [
    "## Define the loss function\n",
    "\n",
    "We use the L2 distance between the circuit’s output state and the target state:"
   ]
  },
  {
   "cell_type": "code",
   "execution_count": 5,
   "id": "d730f914",
   "metadata": {},
   "outputs": [],
   "source": [
    "@jax.jit\n",
    "def loss_fn(params, target_state):\n",
    "    output_state = circuit(params)\n",
    "    diff = output_state - target_state\n",
    "    return jnp.vdot(diff, diff).real"
   ]
  },
  {
   "cell_type": "markdown",
   "id": "b090ca8f",
   "metadata": {},
   "source": [
    "With @jax.jit, JAX traces loss_fn:\n",
    "\n",
    "- It records that `circuit(params)` is a pure function.\n",
    "- It fuses all the classical math (like subtraction, vdot).\n",
    "- It caches the call to circuit with the same computation graph.\n",
    "\n",
    "AX will avoid re-tracing the QNode call for the same shape of parameters.\n",
    "\n",
    "But it can’t fuse the internal gates since it treats the circuit as a black box."
   ]
  },
  {
   "cell_type": "markdown",
   "id": "e3e11572",
   "metadata": {},
   "source": [
    "## Set up the optimizer\n",
    "\n",
    "We use optax.adam:"
   ]
  },
  {
   "cell_type": "code",
   "execution_count": 6,
   "id": "75ffdbdb",
   "metadata": {},
   "outputs": [],
   "source": [
    "optimizer = optax.adam(0.1)"
   ]
  },
  {
   "cell_type": "markdown",
   "id": "0649f400",
   "metadata": {},
   "source": [
    "## Initialize parameters\n",
    "\n",
    "We’ll start with all-zero parameters:"
   ]
  },
  {
   "cell_type": "code",
   "execution_count": 7,
   "id": "6a56703a",
   "metadata": {},
   "outputs": [],
   "source": [
    "params = jnp.zeros((2,3))\n",
    "opt_state = optimizer.init(params)"
   ]
  },
  {
   "cell_type": "markdown",
   "id": "926857e0",
   "metadata": {},
   "source": [
    "We could also try jax.random.uniform for random initialization."
   ]
  },
  {
   "cell_type": "markdown",
   "id": "5d65cfdb",
   "metadata": {},
   "source": [
    "## Training loop\n",
    "\n",
    "We optimize the parameters to minimize the loss:"
   ]
  },
  {
   "cell_type": "code",
   "execution_count": 8,
   "id": "4dd7a78a",
   "metadata": {},
   "outputs": [],
   "source": [
    "@jax.jit\n",
    "def train_step(params, opt_state, target_state):\n",
    "    loss, grads = jax.value_and_grad(loss_fn)(params, target_state)\n",
    "    updates, opt_state = optimizer.update(grads, opt_state)\n",
    "    params = optax.apply_updates(params, updates)\n",
    "    return params, opt_state, loss"
   ]
  },
  {
   "cell_type": "code",
   "execution_count": 9,
   "id": "2168f336",
   "metadata": {},
   "outputs": [
    {
     "name": "stdout",
     "output_type": "stream",
     "text": [
      "Step   0 | Loss: 0.585786\n",
      "Step  10 | Loss: 0.089602\n",
      "Step  20 | Loss: 0.003018\n",
      "Step  30 | Loss: 0.019219\n",
      "Step  40 | Loss: 0.001674\n",
      "Step  50 | Loss: 0.001385\n",
      "Step  60 | Loss: 0.000636\n",
      "Step  70 | Loss: 0.000078\n",
      "Step  80 | Loss: 0.000103\n",
      "Step  90 | Loss: 0.000007\n"
     ]
    }
   ],
   "source": [
    "# Training loop using JAX\n",
    "num_steps = 100\n",
    "loss_history = []\n",
    "for i in range(num_steps):\n",
    "    params, opt_state, loss = train_step(params, opt_state, target_state)\n",
    "    loss_history.append(loss)\n",
    "\n",
    "    if i % 10 == 0:\n",
    "        print(f\"Step {i:3d} | Loss: {loss:.6f}\")"
   ]
  },
  {
   "cell_type": "markdown",
   "id": "a5f3078c",
   "metadata": {},
   "source": [
    "## Plotting Loss Curve"
   ]
  },
  {
   "cell_type": "code",
   "execution_count": 10,
   "id": "70000160",
   "metadata": {},
   "outputs": [
    {
     "data": {
      "image/png": "[encoded data removed]",
      "text/plain": [
       "<Figure size 640x480 with 1 Axes>"
      ]
     },
     "metadata": {},
     "output_type": "display_data"
    },
    {
     "name": "stdout",
     "output_type": "stream",
     "text": [
      "\n",
      "Final optimized parameters:\n",
      "[[0.        1.5635816 0.       ]\n",
      " [0.        0.        0.       ]]\n"
     ]
    }
   ],
   "source": [
    "# Plot the loss history\n",
    "plt.plot(loss_history)\n",
    "plt.xlabel('Step')\n",
    "plt.ylabel('Loss')\n",
    "plt.title('Variational Compilation Loss')\n",
    "plt.show()\n",
    "\n",
    "# Final parameters\n",
    "print(\"\\nFinal optimized parameters:\")\n",
    "print(params)"
   ]
  },
  {
   "cell_type": "markdown",
   "id": "f38c9021",
   "metadata": {},
   "source": [
    "## Inspect the final state\n",
    "\n",
    "After training, let’s see how close we got:"
   ]
  },
  {
   "cell_type": "code",
   "execution_count": 11,
   "id": "1f29fb21",
   "metadata": {},
   "outputs": [
    {
     "name": "stdout",
     "output_type": "stream",
     "text": [
      "Final state: [0.70965296+0.j 0.        +0.j 0.        +0.j 0.7045514 +0.j]\n",
      "Target state: [0.70710677 0.         0.         0.70710677]\n"
     ]
    }
   ],
   "source": [
    "final_state = circuit(params)\n",
    "print(\"Final state:\", final_state)\n",
    "print(\"Target state:\", target_state)"
   ]
  },
  {
   "cell_type": "markdown",
   "id": "36e480e3",
   "metadata": {},
   "source": [
    "We used PennyLane with JAX and Optax to optimize a quantum circuit to produce a desired quantum state."
   ]
  }
 ],
 "metadata": {
  "kernelspec": {
   "display_name": "venv",
   "language": "python",
   "name": "python3"
  },
  "language_info": {
   "codemirror_mode": {
    "name": "ipython",
    "version": 3
   },
   "file_extension": ".py",
   "mimetype": "text/x-python",
   "name": "python",
   "nbconvert_exporter": "python",
   "pygments_lexer": "ipython3",
   "version": "3.12.3"
  }
 },
 "nbformat": 4,
 "nbformat_minor": 5
}
