{
 "cells": [
  {
   "cell_type": "markdown",
   "id": "5e5c01fa",
   "metadata": {},
   "source": [
    "# JIT-Compilation with Catalyst\n",
    "\n",
    "In this notebook, we demonstrate how to use Catalyst's JIT compilation capabilities to optimize a simple quantum circuit.\n",
    "\n",
    "Catalyst allows us to compile quantum circuits to an intermediate representation (MLIR) that can target various backends, enabling efficient execution.\n",
    "\n",
    "References:\n",
    "- [How to use Catalyst with Lightning-GPU](https://pennylane.ai/qml/demos/how_to_catalyst_lightning_gpu.html)\n",
    "\n",
    "Note: we don't use `lightning.gpu` here, but you can use it if you have a compatible GPU available."
   ]
  },
  {
   "cell_type": "code",
   "execution_count": null,
   "id": "f83c2a6d",
   "metadata": {},
   "outputs": [],
   "source": [
    "import pennylane as qml\n",
    "import jax.numpy as jnp\n",
    "\n",
    "num_wires = 2\n",
    "dev = qml.device(\"lightning.qubit\", wires=num_wires)"
   ]
  },
  {
   "cell_type": "markdown",
   "id": "8df8150e",
   "metadata": {},
   "source": [
    "Catalyst's @qjit compiles the entire circuit to an intermediate representation (MLIR) that knows how to target supported backends.\n",
    "\n",
    "If the backend isn't in the compiled library (no .toml), you can't JIT it.\n",
    "\n",
    "`pip install pennylane-lightning` should have already installed the necessary dependencies (.toml files)."
   ]
  },
  {
   "cell_type": "markdown",
   "id": "3274844e",
   "metadata": {},
   "source": [
    "## QNode Returning Expectation Value\n",
    "\n",
    "Catalyst will compile the QNode to a JAX function (not a blackbox function from JAX's perspective):"
   ]
  },
  {
   "cell_type": "code",
   "execution_count": 2,
   "id": "7a97182c",
   "metadata": {},
   "outputs": [],
   "source": [
    "# Define the circuit\n",
    "@qml.qjit(autograph=True)  # autograph=True enables JIT compilation of for-loops and if-statements\n",
    "@qml.qnode(dev)\n",
    "def circuit(params, do_entangle: bool):\n",
    "    # Apply parameterized rotations with a for-loop\n",
    "    for i in range(num_wires):\n",
    "        qml.RY(params[i], wires=i)\n",
    "\n",
    "    # Conditionally apply entanglement\n",
    "    if do_entangle:\n",
    "        qml.CNOT(wires=[0, 1])\n",
    "\n",
    "    # Return expectation value\n",
    "    return qml.expval(qml.PauliZ(0) + qml.PauliZ(1))\n"
   ]
  },
  {
   "cell_type": "markdown",
   "id": "2d5673d9",
   "metadata": {},
   "source": [
    "Here, we show two examples: one with a simple circuit and another with a circuit that includes entanglement.\n",
    "\n",
    "Both examples are compiled with Catalyst's `@qjit` decorator."
   ]
  },
  {
   "cell_type": "code",
   "execution_count": 3,
   "id": "181b54a2",
   "metadata": {},
   "outputs": [
    {
     "name": "stderr",
     "output_type": "stream",
     "text": [
      "An NVIDIA GPU may be present on this machine, but a CUDA-enabled jaxlib is not installed. Falling back to cpu.\n"
     ]
    },
    {
     "name": "stdout",
     "output_type": "stream",
     "text": [
      "With entanglement: 1.9701744924798419\n",
      "Without entanglement: 1.9750707431192676\n"
     ]
    }
   ],
   "source": [
    "# Initialize parameters\n",
    "params = jnp.array([0.1, 0.2])\n",
    "\n",
    "# Evaluate circuit with entanglement\n",
    "result1 = circuit(params, True)\n",
    "print(f\"With entanglement: {result1}\")\n",
    "\n",
    "# Evaluate circuit without entanglement\n",
    "result2 = circuit(params, False)\n",
    "print(f\"Without entanglement: {result2}\")"
   ]
  }
 ],
 "metadata": {
  "kernelspec": {
   "display_name": ".venv",
   "language": "python",
   "name": "python3"
  },
  "language_info": {
   "codemirror_mode": {
    "name": "ipython",
    "version": 3
   },
   "file_extension": ".py",
   "mimetype": "text/x-python",
   "name": "python",
   "nbconvert_exporter": "python",
   "pygments_lexer": "ipython3",
   "version": "3.12.3"
  }
 },
 "nbformat": 4,
 "nbformat_minor": 5
}
