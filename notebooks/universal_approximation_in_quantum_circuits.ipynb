{
 "cells": [
  {
   "cell_type": "markdown",
   "id": "84e482f3",
   "metadata": {},
   "source": [
    "# Universal Approximation in Quantum Circuits\n",
    "\n",
    "This notebook explores how quantum circuits can approximate arbitrary unitaries, drawing analogies to classical neural networks as universal function approximators."
   ]
  },
  {
   "cell_type": "markdown",
   "id": "039f6ed6",
   "metadata": {},
   "source": [
    "## Theory\n",
    "\n",
    "- Quantum circuits can approximate any unitary transformation on $n$ qubits.\n",
    "- The Solovay–Kitaev theorem guarantees that any unitary can be approximated to arbitrary precision with a universal gate set.\n",
    "- Variational quantum circuits (VQCs) are parameterized ansätze designed to explore this space of unitaries."
   ]
  },
  {
   "cell_type": "markdown",
   "id": "940b5b54",
   "metadata": {},
   "source": [
    "## Analogy to Classical ML\n",
    "\n",
    "- Neural networks approximate arbitrary **functions**.\n",
    "- Quantum circuits approximate arbitrary **unitary transformations**.\n",
    "\n",
    "| Classical ML         | Quantum ML                        |\n",
    "|-----------------------|-----------------------------------|\n",
    "| Universal function approximators | Universal unitary approximators |\n",
    "| Layers / activations  | Parameterized gates / layers      |\n",
    "| Weights               | Gate parameters                   |"
   ]
  },
  {
   "cell_type": "markdown",
   "id": "70c3c97b",
   "metadata": {},
   "source": [
    "### Example: Single-Qubit Universal Approximation\n",
    "\n",
    "The below shows any single-qubit unitary can be expressed as RZ-RY-RZ."
   ]
  },
  {
   "cell_type": "code",
   "execution_count": 1,
   "id": "84e36d1e",
   "metadata": {},
   "outputs": [
    {
     "name": "stdout",
     "output_type": "stream",
     "text": [
      "Decomposed angles: alpha=11.866, beta=1.200, gamma=0.500\n",
      "Original U:\n",
      " [[ 0.82121237+0.08239607j -0.46601954+0.31882112j]\n",
      " [ 0.46601954+0.31882112j  0.82121237-0.08239607j]]\n",
      "Reconstructed U:\n",
      " [[ 0.82121237+0.08239607j -0.46601954+0.31882112j]\n",
      " [ 0.46601954+0.31882112j  0.82121237-0.08239607j]]\n",
      "Are they close? True\n"
     ]
    }
   ],
   "source": [
    "import pennylane as qml\n",
    "from pennylane import numpy as np\n",
    "\n",
    "dev = qml.device(\"default.qubit\", wires=1)\n",
    "\n",
    "# Define a random unitary (composition of rotations)\n",
    "U_true = qml.matrix(qml.RZ(0.5, 0)) @ qml.matrix(qml.RY(1.2, 0)) @ qml.matrix(qml.RZ(-0.7, 0))\n",
    "\n",
    "# Decompose into Euler angles (RZ-RY-RZ)\n",
    "ops = qml.ops.one_qubit_decomposition(U_true, wire=0, return_global_phase=True)\n",
    "alpha, beta, gamma, _ = [op.data[0] for op in ops]\n",
    "\n",
    "print(f\"Decomposed angles: alpha={alpha:.3f}, beta={beta:.3f}, gamma={gamma:.3f}\")\n",
    "\n",
    "# Reconstruct the unitary\n",
    "U_reconstructed = (\n",
    "    qml.matrix(qml.RZ(gamma, 0)) @\n",
    "    qml.matrix(qml.RY(beta, 0)) @\n",
    "    qml.matrix(qml.RZ(alpha, 0))\n",
    ")\n",
    "\n",
    "print(\"Original U:\\n\", U_true)\n",
    "print(\"Reconstructed U:\\n\", U_reconstructed)\n",
    "print(\"Are they close?\", np.allclose(U_true, U_reconstructed))"
   ]
  },
  {
   "cell_type": "markdown",
   "id": "421867d5",
   "metadata": {},
   "source": [
    "## Variational Ansatz\n",
    "\n",
    "Variational Quantum Circuits (VQCs) use parameterized gates to approximate target unitaries or states.\n",
    "\n",
    "If the ansatz is sufficiently expressive (deep, wide enough), it can in theory represent any target state.\n",
    "\n",
    "But in practice:\n",
    "\n",
    "- Hardware noise limits depth.\n",
    "- Optimization can get stuck in barren plateaus.\n",
    "\n",
    "Note:\n",
    "- In quantum circuits, the \"barren plateau\" is basically the quantum analog of vanishing gradients in deep learning.\n",
    "\n",
    "Any unitary can be approximated with enough gates and qubits.\n",
    "- Variational circuits are quantum analogs of neural networks.\n",
    "- Expressibility vs. trainability trade-off exists.\n",
    "- Compilation reduces ideal circuits to hardware-native gates."
   ]
  },
  {
   "cell_type": "markdown",
   "id": "81f24ad5",
   "metadata": {},
   "source": [
    "## VQE: A Hybrid Quantum-Classical Algorithm\n",
    "\n",
    "- **VQE (Variational Quantum Eigensolver)** is not a fully quantum algorithm, but a *hybrid* one.\n",
    "- It combines quantum circuits and classical optimization:\n",
    "  - The **quantum part** prepares a parameterized state |ψ(θ)⟩ and measures expectation values (like energy ⟨ψ(θ)|H|ψ(θ)⟩).\n",
    "  - The **classical part** uses optimizers (e.g., gradient descent) to update θ and minimize the cost function.\n",
    "- The optimization loop is *purely classical*, even though it operates over quantum measurements.\n",
    "- This approach allows quantum computers to handle *hard-to-simulate* state preparation and measurement, while classical computers handle optimization.\n",
    "\n",
    "**Key comparison:**\n",
    "- Unlike purely combinatorial quantum algorithms (like QAOA), which seek discrete solutions (bitstrings), VQE solves a *continuous* eigenvalue problem.\n",
    "- Both use parameterized quantum circuits and can suffer from *barren plateaus* (vanishing gradients with large circuits).\n",
    "\n",
    "**Bottom line:**  \n",
    "> VQE uses quantum power to evaluate hard quantum states, but relies on classical algorithms to *learn* optimal parameters.\n"
   ]
  },
  {
   "cell_type": "markdown",
   "id": "289dd179",
   "metadata": {},
   "source": [
    "## Why is VQE an Eigenvalue Problem?\n",
    "\n",
    "In quantum chemistry and physics, many problems reduce to finding **the ground state energy** of a system. Mathematically, this is expressed as finding the **smallest eigenvalue** of the Hamiltonian \\( H \\):\n",
    "\n",
    "$\n",
    "H |\\psi\\rangle = E |\\psi\\rangle\n",
    "$\n",
    "\n",
    "- $H$ is the Hamiltonian operator (Hermitian matrix describing the system).\n",
    "- $E$ is an eigenvalue (energy).\n",
    "- $|\\psi\\rangle$ is the eigenvector (quantum state).\n",
    "\n",
    "### The Variational Principle\n",
    "\n",
    "The **variational principle** says:\n",
    "\n",
    "$\n",
    "\\langle \\psi | H | \\psi \\rangle \\geq E_0\n",
    "$\n",
    "\n",
    "where $E_0$ is the **true ground-state energy** (smallest eigenvalue).\n",
    "\n",
    "### How VQE Works\n",
    "\n",
    "- We don't know the exact eigenvector $|\\psi\\rangle$.\n",
    "- Instead, we prepare **parameterized trial states** $|\\psi(\\theta)\\rangle$ on a quantum computer.\n",
    "- We measure their **expectation value**:\n",
    "\n",
    "$\n",
    "\\langle \\psi(\\theta) | H | \\psi(\\theta) \\rangle\n",
    "$\n",
    "\n",
    "- By varying **θ**, we **minimize** this expectation value.\n",
    "\n",
    "### Goal\n",
    "\n",
    "$\n",
    "\\min_\\theta \\langle \\psi(\\theta) | H | \\psi(\\theta) \\rangle \\approx E_0\n",
    "$\n",
    "\n",
    "- The minimal value approximates the **lowest eigenvalue**.\n",
    "- The corresponding state approximates the **ground-state eigenvector**.\n",
    "\n",
    "### Bottom Line\n",
    "\n",
    "**VQE is solving an eigenvalue problem:**\n",
    "\n",
    "> *“Find the smallest eigenvalue (ground state energy) of the Hamiltonian $H$.”*\n",
    "\n",
    "This is why VQE is a hybrid quantum-classical algorithm designed specifically for **eigenvalue problems** in quantum systems.\n"
   ]
  }
 ],
 "metadata": {
  "kernelspec": {
   "display_name": ".venv",
   "language": "python",
   "name": "python3"
  },
  "language_info": {
   "codemirror_mode": {
    "name": "ipython",
    "version": 3
   },
   "file_extension": ".py",
   "mimetype": "text/x-python",
   "name": "python",
   "nbconvert_exporter": "python",
   "pygments_lexer": "ipython3",
   "version": "3.12.3"
  }
 },
 "nbformat": 4,
 "nbformat_minor": 5
}
