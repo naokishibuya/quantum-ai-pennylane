{
 "cells": [
  {
   "cell_type": "markdown",
   "id": "af56f7d5",
   "metadata": {},
   "source": [
    "# Hybrid VAE\n",
    "\n",
    "We build a hybrid VAE that uses a quantum circuit to encode the latent space, and a classical neural network to decode it. "
   ]
  },
  {
   "cell_type": "code",
   "execution_count": null,
   "id": "6e494425",
   "metadata": {},
   "outputs": [],
   "source": [
    "import pennylane as qml\n",
    "from pennylane import numpy as np\n",
    "import torch\n",
    "import torch.nn as nn\n",
    "import torch.optim as optim\n",
    "\n",
    "\n",
    "# settings\n",
    "n_qubits = 2\n",
    "n_layers = 1\n",
    "dev = qml.device(\"default.qubit\", wires=n_qubits)"
   ]
  },
  {
   "cell_type": "markdown",
   "id": "60f20aff",
   "metadata": {},
   "source": [
    "## Quantum Encoder\n",
    "\n",
    "We define a quantum circuit that encodes the input features into a quantum state.\n",
    "\n",
    "The circuit interfaces with PyTorch, allowing us to use it as part of a larger neural network."
   ]
  },
  {
   "cell_type": "code",
   "execution_count": null,
   "id": "0fa9f78e",
   "metadata": {},
   "outputs": [],
   "source": [
    "@qml.qnode(dev, interface=\"torch\")\n",
    "def quantum_encoder(inputs, weights):\n",
    "    # Encoding input features as rotations\n",
    "    for i in range(n_qubits):\n",
    "        qml.RY(inputs[i], wires=i)\n",
    "    \n",
    "    # Variational layers\n",
    "    for l in range(n_layers):\n",
    "        for i in range(n_qubits):\n",
    "            qml.RY(weights[l, i, 0], wires=i)\n",
    "            qml.RZ(weights[l, i, 1], wires=i)\n",
    "        qml.CNOT(wires=[0, 1])\n",
    "\n",
    "    # Measurement\n",
    "    return [qml.expval(qml.PauliZ(i)) for i in range(n_qubits)]"
   ]
  },
  {
   "cell_type": "markdown",
   "id": "d7a6719c",
   "metadata": {},
   "source": [
    "This is a PyTorch Module that internally uses the quantum encoder defined above. "
   ]
  },
  {
   "cell_type": "code",
   "execution_count": null,
   "id": "f0c28f76",
   "metadata": {},
   "outputs": [],
   "source": [
    "class QuantumEncoder(nn.Module):\n",
    "    def __init__(self):\n",
    "        super().__init__()\n",
    "        # Variational parameters (torch Parameter)\n",
    "        self.q_weights = nn.Parameter(0.01 * torch.randn(n_layers, n_qubits, 2))\n",
    "\n",
    "    def forward(self, x):\n",
    "        batch_out = []\n",
    "        for i in range(x.shape[0]):\n",
    "            res = quantum_encoder(x[i], self.q_weights)\n",
    "            # Force dtype to float32\n",
    "            res_torch = torch.tensor(res, dtype=torch.float32)\n",
    "            batch_out.append(res_torch)\n",
    "        return torch.stack(batch_out)"
   ]
  },
  {
   "cell_type": "markdown",
   "id": "d99735ea",
   "metadata": {},
   "source": [
    "## Classical Decoder\n",
    "\n",
    "This is a classical neural network that decodes the latent space into the output space."
   ]
  },
  {
   "cell_type": "code",
   "execution_count": null,
   "id": "aa1096a7",
   "metadata": {},
   "outputs": [],
   "source": [
    "class ClassicalDecoder(nn.Module):\n",
    "    def __init__(self, latent_dim, output_dim):\n",
    "        super().__init__()\n",
    "        self.model = nn.Sequential(\n",
    "            nn.Linear(latent_dim, 8),\n",
    "            nn.ReLU(),\n",
    "            nn.Linear(8, output_dim)\n",
    "        )\n",
    "\n",
    "    def forward(self, z):\n",
    "        return self.model(z)"
   ]
  },
  {
   "cell_type": "markdown",
   "id": "0ad9492b",
   "metadata": {},
   "source": [
    "## Hybrid VAE\n",
    "\n",
    "Finally, we combine the quantum encoder and classical decoder into a hybrid VAE model."
   ]
  },
  {
   "cell_type": "code",
   "execution_count": null,
   "id": "266ccb70",
   "metadata": {},
   "outputs": [],
   "source": [
    "\n",
    "class HybridVAE(nn.Module):\n",
    "    def __init__(self):\n",
    "        super().__init__()\n",
    "        self.encoder = QuantumEncoder()\n",
    "        self.decoder = ClassicalDecoder(latent_dim=n_qubits, output_dim=2)\n",
    "\n",
    "    def forward(self, x):\n",
    "        z = self.encoder(x)\n",
    "        x_recon = self.decoder(z)\n",
    "        return x_recon"
   ]
  },
  {
   "cell_type": "markdown",
   "id": "325fd359",
   "metadata": {},
   "source": [
    "## Training with PyTorch"
   ]
  },
  {
   "cell_type": "code",
   "execution_count": null,
   "id": "d0a9f8cd",
   "metadata": {},
   "outputs": [],
   "source": [
    "\n",
    "# Synthetic data generation\n",
    "X_data = torch.rand((100, 2), dtype=torch.float32) * np.pi\n",
    "\n",
    "# Training the Hybrid VAE\n",
    "model = HybridVAE()\n",
    "opt = optim.Adam(model.parameters(), lr=0.01)\n",
    "loss_fn = nn.MSELoss()\n",
    "\n",
    "for epoch in range(30):\n",
    "    opt.zero_grad()\n",
    "    x_recon = model(X_data)\n",
    "    loss = loss_fn(x_recon, X_data)\n",
    "    loss.backward()\n",
    "    opt.step()\n",
    "    print(f\"Epoch {epoch+1}, Loss: {loss.item():.4f}\")"
   ]
  }
 ],
 "metadata": {
  "kernelspec": {
   "display_name": ".venv",
   "language": "python",
   "name": "python3"
  },
  "language_info": {
   "codemirror_mode": {
    "name": "ipython",
    "version": 3
   },
   "file_extension": ".py",
   "mimetype": "text/x-python",
   "name": "python",
   "nbconvert_exporter": "python",
   "pygments_lexer": "ipython3",
   "version": "3.12.3"
  }
 },
 "nbformat": 4,
 "nbformat_minor": 5
}
