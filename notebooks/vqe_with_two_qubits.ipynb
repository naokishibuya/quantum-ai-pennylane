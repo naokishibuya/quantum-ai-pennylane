{
 "cells": [
  {
   "cell_type": "markdown",
   "id": "1e485610",
   "metadata": {},
   "source": [
    "# Variational Quantum Eigensolver (VQE) wit Two Qubits\n",
    "\n",
    "## Problem Setup\n",
    "\n",
    "We will solve for the ground state energy of a simple 2-qubit Hamiltonian:\n",
    "\n",
    "$\n",
    "H = 1.0 * Z_0 + 0.5 * X_1\n",
    "$\n",
    "\n",
    "This is an artificial test Hamiltonian designed to demonstrate the Variational Quantum Eigensolver (VQE) algorithm in a pedagogical way.\n"
   ]
  },
  {
   "cell_type": "code",
   "execution_count": 1,
   "id": "c89a26af",
   "metadata": {},
   "outputs": [],
   "source": [
    "import pennylane as qml\n",
    "from pennylane import numpy as np\n",
    "import matplotlib.pyplot as plt"
   ]
  },
  {
   "cell_type": "markdown",
   "id": "5504290b",
   "metadata": {},
   "source": [
    "## Define the Hamiltonian"
   ]
  },
  {
   "cell_type": "code",
   "execution_count": 2,
   "id": "3eaa5630",
   "metadata": {},
   "outputs": [
    {
     "name": "stdout",
     "output_type": "stream",
     "text": [
      "PennyLane Hamiltonian object:\n",
      "1.0 * Z(0) + 0.5 * X(1)\n"
     ]
    }
   ],
   "source": [
    "# Define Hamiltonian\n",
    "coeffs = [1.0, 0.5]\n",
    "obs = [qml.PauliZ(0), qml.PauliX(1)]\n",
    "\n",
    "H = qml.Hamiltonian(coeffs, obs)\n",
    "\n",
    "print(\"PennyLane Hamiltonian object:\")\n",
    "print(H)"
   ]
  },
  {
   "cell_type": "markdown",
   "id": "46c34984",
   "metadata": {},
   "source": [
    "Get sparse matrix representation of the Hamiltonian."
   ]
  },
  {
   "cell_type": "code",
   "execution_count": 3,
   "id": "47a48842",
   "metadata": {},
   "outputs": [
    {
     "name": "stdout",
     "output_type": "stream",
     "text": [
      "SciPy Sparse Matrix (CSR):\n",
      "<Compressed Sparse Row sparse matrix of dtype 'complex128'\n",
      "\twith 8 stored elements and shape (4, 4)>\n",
      "  Coords\tValues\n",
      "  (0, 0)\t(1+0j)\n",
      "  (0, 1)\t(0.5+0j)\n",
      "  (1, 0)\t(0.5+0j)\n",
      "  (1, 1)\t(1+0j)\n",
      "  (2, 2)\t(-1+0j)\n",
      "  (2, 3)\t(0.5+0j)\n",
      "  (3, 2)\t(0.5+0j)\n",
      "  (3, 3)\t(-1+0j)\n"
     ]
    }
   ],
   "source": [
    "# Returns a SciPy CSR sparse matrix\n",
    "H_sparse = H.sparse_matrix()\n",
    "\n",
    "print(\"SciPy Sparse Matrix (CSR):\")\n",
    "print(H_sparse)"
   ]
  },
  {
   "cell_type": "code",
   "execution_count": 4,
   "id": "2a8ecb83",
   "metadata": {},
   "outputs": [
    {
     "name": "stdout",
     "output_type": "stream",
     "text": [
      "Dense matrix view:\n",
      "[[ 1. +0.j  0.5+0.j  0. +0.j  0. +0.j]\n",
      " [ 0.5+0.j  1. +0.j  0. +0.j  0. +0.j]\n",
      " [ 0. +0.j  0. +0.j -1. +0.j  0.5+0.j]\n",
      " [ 0. +0.j  0. +0.j  0.5+0.j -1. +0.j]]\n"
     ]
    }
   ],
   "source": [
    "# (Optional) Convert to dense to see full matrix\n",
    "print(\"Dense matrix view:\")\n",
    "print(H_sparse.toarray())"
   ]
  },
  {
   "cell_type": "code",
   "execution_count": 5,
   "id": "2e66c791",
   "metadata": {},
   "outputs": [
    {
     "name": "stdout",
     "output_type": "stream",
     "text": [
      "SparseHamiltonian ready for use in QNodes!\n"
     ]
    }
   ],
   "source": [
    "H_obs = qml.SparseHamiltonian(H_sparse, wires=[0, 1])\n",
    "print(\"SparseHamiltonian ready for use in QNodes!\")"
   ]
  },
  {
   "cell_type": "markdown",
   "id": "da98958b",
   "metadata": {},
   "source": [
    "## Ansatz Circuit\n",
    "\n",
    "We use a simple hardware-efficient ansatz with 2 parameters:\n",
    "\n",
    "- Single-qubit Ry rotations\n",
    "- A CNOT entangling gate"
   ]
  },
  {
   "cell_type": "code",
   "execution_count": 6,
   "id": "289c7f39",
   "metadata": {},
   "outputs": [],
   "source": [
    "# Define device\n",
    "dev = qml.device('default.qubit', wires=2)\n",
    "\n",
    "# Define the quantum circuit (ansatz)\n",
    "@qml.qnode(dev)\n",
    "def ansatz(params):  # A simple ansatz for 2 qubits\n",
    "    qml.RX(params[0], wires=0)\n",
    "    qml.RY(params[1], wires=1)\n",
    "    return qml.expval(H_obs)"
   ]
  },
  {
   "cell_type": "markdown",
   "id": "5c5d5c77",
   "metadata": {},
   "source": [
    "Run a test circuit to verify the ansatz works."
   ]
  },
  {
   "cell_type": "code",
   "execution_count": 7,
   "id": "533b2d74",
   "metadata": {},
   "outputs": [
    {
     "name": "stdout",
     "output_type": "stream",
     "text": [
      "Expectation value of H on ansatz state:\n",
      "1.0943388306755566\n"
     ]
    }
   ],
   "source": [
    "test_params = np.array([0.1, 0.2])\n",
    "\n",
    "expect_val = ansatz(test_params)\n",
    "print(\"Expectation value of H on ansatz state:\")\n",
    "print(expect_val)"
   ]
  },
  {
   "cell_type": "markdown",
   "id": "4247ee9d",
   "metadata": {},
   "source": [
    "## Cost Function\n",
    "\n",
    "The VQE cost is simply the expectation value of our Hamiltonian with respect to the ansatz state."
   ]
  },
  {
   "cell_type": "code",
   "execution_count": 8,
   "id": "9981a09e",
   "metadata": {},
   "outputs": [],
   "source": [
    "def cost_fn(params):\n",
    "    return ansatz(params)"
   ]
  },
  {
   "cell_type": "markdown",
   "id": "514049fa",
   "metadata": {},
   "source": [
    "## Optimization\n",
    "\n",
    "We minimize the cost function using a classical optimizer."
   ]
  },
  {
   "cell_type": "code",
   "execution_count": 9,
   "id": "735df122",
   "metadata": {},
   "outputs": [
    {
     "name": "stdout",
     "output_type": "stream",
     "text": [
      "Step  0 | Energy = 0.637870\n",
      "Step 10 | Energy = -0.976244\n",
      "Step 20 | Energy = -1.486849\n",
      "Step 30 | Energy = -1.499256\n",
      "Step 40 | Energy = -1.499919\n"
     ]
    }
   ],
   "source": [
    "opt = qml.GradientDescentOptimizer(stepsize=0.2)\n",
    "params = np.array([0.5, -0.5], requires_grad=True)\n",
    "\n",
    "steps = 50\n",
    "energy_track = []\n",
    "\n",
    "for i in range(steps):\n",
    "    params, cost = opt.step_and_cost(cost_fn, params)\n",
    "    energy_track.append(cost)\n",
    "    \n",
    "    if i % 10 == 0:\n",
    "        print(f\"Step {i:2d} | Energy = {cost:.6f}\")\n"
   ]
  },
  {
   "cell_type": "markdown",
   "id": "06732d7f",
   "metadata": {},
   "source": [
    "## Results\n",
    "\n",
    "We plot the convergence of the variational energy."
   ]
  },
  {
   "cell_type": "code",
   "execution_count": 10,
   "id": "98d46751",
   "metadata": {},
   "outputs": [
    {
     "data": {
      "image/png": "[encoded data removed]",
      "text/plain": [
       "<Figure size 640x480 with 1 Axes>"
      ]
     },
     "metadata": {},
     "output_type": "display_data"
    }
   ],
   "source": [
    "plt.plot(energy_track)\n",
    "plt.xlabel('Step')\n",
    "plt.ylabel('Energy')\n",
    "plt.title('VQE Optimization')\n",
    "plt.show()"
   ]
  },
  {
   "cell_type": "markdown",
   "id": "f4b6d2db",
   "metadata": {},
   "source": [
    "## Compare to Exact Solution\n",
    "\n",
    "We can compute the exact ground state energy for our Hamiltonian:"
   ]
  },
  {
   "cell_type": "code",
   "execution_count": 11,
   "id": "9e1e198c",
   "metadata": {},
   "outputs": [
    {
     "name": "stdout",
     "output_type": "stream",
     "text": [
      "Exact ground state energy: -1.500000\n",
      "VQE estimated energy     : -1.499988\n"
     ]
    }
   ],
   "source": [
    "# Convert the SparseHamiltonian to a dense matrix\n",
    "dense_H = H_sparse.todense()\n",
    "\n",
    "# Compute all eigenvalues\n",
    "exact_eigenvalues, _ = np.linalg.eigh(dense_H)\n",
    "\n",
    "# The smallest eigenvalue is the ground-state energy\n",
    "exact_ground_energy = np.min(exact_eigenvalues)\n",
    "\n",
    "print(f\"Exact ground state energy: {exact_ground_energy:.6f}\")\n",
    "print(f\"VQE estimated energy     : {energy_track[-1]:.6f}\")\n"
   ]
  },
  {
   "cell_type": "markdown",
   "id": "de180038",
   "metadata": {},
   "source": [
    "## Conclusion\n",
    "\n",
    "- We built a **simple 2-qubit Hamiltonian** with Pauli terms.\n",
    "- We designed an **ansatz** with two parameters.\n",
    "- We minimized the energy using **classical optimization**.\n",
    "- We **compared** our result to the exact diagonalization.\n",
    "\n",
    "This notebook shows the core idea of VQE **without chemistry complications**!"
   ]
  }
 ],
 "metadata": {
  "kernelspec": {
   "display_name": ".venv",
   "language": "python",
   "name": "python3"
  },
  "language_info": {
   "codemirror_mode": {
    "name": "ipython",
    "version": 3
   },
   "file_extension": ".py",
   "mimetype": "text/x-python",
   "name": "python",
   "nbconvert_exporter": "python",
   "pygments_lexer": "ipython3",
   "version": "3.12.3"
  }
 },
 "nbformat": 4,
 "nbformat_minor": 5
}
