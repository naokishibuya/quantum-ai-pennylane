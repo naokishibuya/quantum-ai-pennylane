{
 "cells": [
  {
   "cell_type": "markdown",
   "id": "5a1982ee",
   "metadata": {},
   "source": [
    "# QAOA for Max-Cut Problem\n",
    "\n",
    "This is an example of using PennyLane to solve the Max-Cut problem (combinatorial optimization) using the Quantum Approximate Optimization Algorithm (QAOA).\n",
    "\n",
    "- Define a small graph (e.g., 4 nodes).\n",
    "- Build the cost Hamiltonian for MaxCut.\n",
    "- Define the QAOA ansatz circuit.\n",
    "- Optimize the parameters.\n",
    "- Plot cost function vs iteration.\n",
    "- Visualize the final cut on the graph.\n",
    "\n",
    "References:\n",
    "- [PennyLane Intro to QAOA](https://pennylane.ai/qml/demos/tutorial_qaoa_intro)"
   ]
  },
  {
   "cell_type": "code",
   "execution_count": 1,
   "id": "254f1d84",
   "metadata": {},
   "outputs": [],
   "source": [
    "import networkx as nx\n",
    "import matplotlib.pyplot as plt\n",
    "import pennylane as qml\n",
    "from pennylane import numpy as np"
   ]
  },
  {
   "cell_type": "markdown",
   "id": "64c7f96b",
   "metadata": {},
   "source": [
    "## Define a simple 4-node graph for MaxCut"
   ]
  },
  {
   "cell_type": "code",
   "execution_count": 2,
   "id": "8da71046",
   "metadata": {},
   "outputs": [
    {
     "data": {
      "image/png": "[encoded data removed]",
      "text/plain": [
       "<Figure size 640x480 with 1 Axes>"
      ]
     },
     "metadata": {},
     "output_type": "display_data"
    }
   ],
   "source": [
    "G = nx.Graph()\n",
    "G.add_edges_from([(0,1), (1,2), (2,3), (3,0), (0,2)])\n",
    "\n",
    "nx.draw_circular(G, with_labels=True, node_color='lightblue', node_size=800, edge_color='gray')\n",
    "plt.show()"
   ]
  },
  {
   "cell_type": "markdown",
   "id": "a6fc92a6",
   "metadata": {},
   "source": [
    "## Cost Hamiltonian for MaxCut\n",
    "\n",
    "The MaxCut cost Hamiltonian is:\n",
    "\n",
    "$$\n",
    "\\hat{H}_{\\text{cost}} = \\frac{1}{2} \\sum_{(i,j) \\in E} (I - Z_i Z_j)\n",
    "$$\n",
    "\n",
    "We build this using PennyLane's `qml.qaoa.maxcut` utility.\n"
   ]
  },
  {
   "cell_type": "code",
   "execution_count": 3,
   "id": "591b0e39",
   "metadata": {},
   "outputs": [
    {
     "name": "stdout",
     "output_type": "stream",
     "text": [
      "Cost Hamiltonian:\n",
      "0.5 * (Z(0) @ Z(1)) + 0.5 * (Z(0) @ Z(3)) + 0.5 * (Z(0) @ Z(2)) + 0.5 * (Z(1) @ Z(2)) + 0.5 * (Z(2) @ Z(3)) + -0.5 * (I(0) @ I(1)) + -0.5 * (I(0) @ I(3)) + -0.5 * (I(0) @ I(2)) + -0.5 * (I(1) @ I(2)) + -0.5 * (I(2) @ I(3))\n",
      "Mixer Hamiltonian:\n",
      "1 * X(0) + 1 * X(1) + 1 * X(2) + 1 * X(3)\n"
     ]
    }
   ],
   "source": [
    "# Get number of qubits\n",
    "num_qubits = len(G.nodes)\n",
    "\n",
    "# Build the cost Hamiltonian\n",
    "cost_h, mixer_h = qml.qaoa.maxcut(G)\n",
    "\n",
    "print(\"Cost Hamiltonian:\")\n",
    "print(cost_h)\n",
    "print(\"Mixer Hamiltonian:\")\n",
    "print(mixer_h)"
   ]
  },
  {
   "cell_type": "markdown",
   "id": "96580a89",
   "metadata": {},
   "source": [
    "## QAOA Ansatz\n",
    "\n",
    "We use p layers of alternating cost and mixer unitaries.\n",
    "\n",
    "The mixer Hamiltonian is typically a sum of Pauli-X operators on each qubit. \n",
    "\n",
    "This is a common choice for QAOA. It encourages exploration of the solution space by flipping qubits.\n",
    "\n",
    "Here, we use the X mixer for all qubits.\n",
    "\n",
    "The mixer Hamiltonian is defined as:\n",
    "$$ \\hat{H}_{\\text{mixer}} = \\sum_{i=0}^{n-1} X_i $$\n",
    "where $X_i$ is the Pauli-X operator on qubit $i$."
   ]
  },
  {
   "cell_type": "code",
   "execution_count": 4,
   "id": "af0f6af4",
   "metadata": {},
   "outputs": [],
   "source": [
    "# Define the QAOA layer\n",
    "def qaoa_layer(gamma, alpha):\n",
    "    qml.qaoa.cost_layer(gamma, cost_h)\n",
    "    qml.qaoa.mixer_layer(alpha, mixer_h)\n",
    "\n",
    "\n",
    "# Define the QAOA ansatz which is a pure gate sequence, no measurement.\n",
    "def qaoa_ansatz(params):\n",
    "    # Start in equal superposition\n",
    "    for wire in range(num_qubits):\n",
    "        qml.Hadamard(wire)\n",
    "    \n",
    "    # Apply p layers of QAOA\n",
    "    qml.layer(qaoa_layer, 2, params[0], params[1])\n",
    "\n"
   ]
  },
  {
   "cell_type": "markdown",
   "id": "3185a4fd",
   "metadata": {},
   "source": [
    "## Cost Function\n",
    "\n",
    "We want to minimize ⟨H⟩ = cost(params)."
   ]
  },
  {
   "cell_type": "code",
   "execution_count": 5,
   "id": "f7a5aff5",
   "metadata": {},
   "outputs": [],
   "source": [
    "# Define the quantum device\n",
    "dev = qml.device('default.qubit', wires=num_qubits)\n",
    "\n",
    "\n",
    "@qml.qnode(dev)\n",
    "def cost_function(params):\n",
    "    qaoa_ansatz(params)\n",
    "    return qml.expval(cost_h)"
   ]
  },
  {
   "cell_type": "markdown",
   "id": "867ea0fb",
   "metadata": {},
   "source": [
    "Note: params shape is (p, 2), where p = number of layers."
   ]
  },
  {
   "cell_type": "markdown",
   "id": "40c5aabc",
   "metadata": {},
   "source": [
    "## Optimize the QAOA parameters"
   ]
  },
  {
   "cell_type": "code",
   "execution_count": 6,
   "id": "d771b13a",
   "metadata": {},
   "outputs": [
    {
     "name": "stdout",
     "output_type": "stream",
     "text": [
      "Iteration 0: Cost = -1.6569\n",
      "Iteration 10: Cost = -3.2516\n",
      "Iteration 20: Cost = -3.6170\n",
      "Iteration 30: Cost = -3.7164\n",
      "Iteration 40: Cost = -3.7274\n",
      "Iteration 50: Cost = -3.7374\n",
      "Iteration 60: Cost = -3.7391\n",
      "Iteration 70: Cost = -3.7416\n",
      "Iteration 80: Cost = -3.7416\n",
      "Iteration 90: Cost = -3.7420\n"
     ]
    }
   ],
   "source": [
    "np.random.seed(42) # Set random seed for reproducibility\n",
    "\n",
    "p = 2\n",
    "params = np.random.uniform(0, np.pi, (p, 2), requires_grad=True)\n",
    "opt = qml.AdamOptimizer(stepsize=0.1)\n",
    "\n",
    "max_iterations = 100\n",
    "cost_progress = []\n",
    "\n",
    "for i in range(max_iterations):\n",
    "    params, cost_val = opt.step_and_cost(cost_function, params)\n",
    "    cost_progress.append(cost_val)\n",
    "    if i % 10 == 0:\n",
    "        print(f\"Iteration {i}: Cost = {cost_val:.4f}\")\n"
   ]
  },
  {
   "cell_type": "markdown",
   "id": "59f0688d",
   "metadata": {},
   "source": [
    "## Plot cost function vs iteration"
   ]
  },
  {
   "cell_type": "code",
   "execution_count": 7,
   "id": "0c3edb31",
   "metadata": {},
   "outputs": [
    {
     "data": {
      "image/png": "[encoded data removed]",
      "text/plain": [
       "<Figure size 640x480 with 1 Axes>"
      ]
     },
     "metadata": {},
     "output_type": "display_data"
    }
   ],
   "source": [
    "plt.plot(cost_progress)\n",
    "plt.xlabel(\"Iteration\")\n",
    "plt.ylabel(\"Cost ⟨H⟩\")\n",
    "plt.title(\"QAOA Cost Function Convergence\")\n",
    "plt.show()"
   ]
  },
  {
   "cell_type": "markdown",
   "id": "d79d5da0",
   "metadata": {},
   "source": [
    "## Sample and Visualize Cut"
   ]
  },
  {
   "cell_type": "code",
   "execution_count": 14,
   "id": "6f757df5",
   "metadata": {},
   "outputs": [
    {
     "name": "stdout",
     "output_type": "stream",
     "text": [
      "Final cut assignment: [[0. 1. 1. ... 0. 1. 1.]\n",
      " [1. 0. 0. ... 1. 0. 0.]\n",
      " [0. 1. 1. ... 0. 1. 1.]\n",
      " [1. 0. 0. ... 1. 0. 0.]]\n"
     ]
    },
    {
     "data": {
      "image/png": "[encoded data removed]",
      "text/plain": [
       "<Figure size 640x480 with 1 Axes>"
      ]
     },
     "metadata": {},
     "output_type": "display_data"
    }
   ],
   "source": [
    "# For sampling the final state, we will use a new device with shots.\n",
    "dev = qml.device('default.qubit', wires=num_qubits, shots=1000)\n",
    "\n",
    "\n",
    "# Define a QNode to sample the final state after optimization\n",
    "@qml.qnode(dev)\n",
    "def final_state(params):\n",
    "    qaoa_ansatz(params)\n",
    "    return [qml.sample(qml.PauliZ(i)) for i in range(num_qubits)]\n",
    "\n",
    "\n",
    "# Sample the final state\n",
    "samples = np.array(final_state(params))\n",
    "cut = (samples + 1) // 2\n",
    "print(\"Final cut assignment:\", cut)\n",
    "\n",
    "# Visualize the final cut assignment\n",
    "assignment = cut[0]\n",
    "color_map = ['lightblue' if assignment[i]==0 else 'orange' for i in G.nodes]\n",
    "nx.draw_circular(G, with_labels=True, node_color=color_map, node_size=800, edge_color='gray')\n",
    "plt.title(\"Final Cut Assignment\")\n",
    "plt.show()"
   ]
  }
 ],
 "metadata": {
  "kernelspec": {
   "display_name": "venv",
   "language": "python",
   "name": "python3"
  },
  "language_info": {
   "codemirror_mode": {
    "name": "ipython",
    "version": 3
   },
   "file_extension": ".py",
   "mimetype": "text/x-python",
   "name": "python",
   "nbconvert_exporter": "python",
   "pygments_lexer": "ipython3",
   "version": "3.12.3"
  }
 },
 "nbformat": 4,
 "nbformat_minor": 5
}
